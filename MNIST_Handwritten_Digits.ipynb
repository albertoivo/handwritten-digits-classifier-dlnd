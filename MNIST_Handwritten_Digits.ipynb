{
 "cells": [
  {
   "cell_type": "markdown",
   "metadata": {},
   "source": [
    "# Introduction\n",
    "\n",
    "In this project, you will build a neural network of your own design to evaluate the MNIST dataset.\n",
    "\n",
    "Some of the benchmark results on MNIST include can be found [on Yann LeCun's page](https://webcache.googleusercontent.com/search?q=cache:stAVPik6onEJ:yann.lecun.com/exdb/mnist) and include:\n",
    "\n",
    "88% [Lecun et al., 1998](https://hal.science/hal-03926082/document)\n",
    "\n",
    "95.3% [Lecun et al., 1998](https://hal.science/hal-03926082v1/document)\n",
    "\n",
    "99.65% [Ciresan et al., 2011](http://people.idsia.ch/~juergen/ijcai2011.pdf)\n",
    "\n",
    "\n",
    "MNIST is a great dataset for sanity checking your models, since the accuracy levels achieved by large convolutional neural networks and small linear models are both quite high. This makes it important to be familiar with the data.\n",
    "\n",
    "## Installation"
   ]
  },
  {
   "cell_type": "code",
   "execution_count": 1,
   "metadata": {},
   "outputs": [
    {
     "name": "stdout",
     "output_type": "stream",
     "text": [
      "Requirement already satisfied: ipywidgets==8.1.5 in /home/ivo/miniconda3/envs/dl_env/lib/python3.10/site-packages (from -r requirements.txt (line 1)) (8.1.5)\n",
      "Requirement already satisfied: comm>=0.1.3 in /home/ivo/miniconda3/envs/dl_env/lib/python3.10/site-packages (from ipywidgets==8.1.5->-r requirements.txt (line 1)) (0.2.3)\n",
      "Requirement already satisfied: ipython>=6.1.0 in /home/ivo/miniconda3/envs/dl_env/lib/python3.10/site-packages (from ipywidgets==8.1.5->-r requirements.txt (line 1)) (8.37.0)\n",
      "Requirement already satisfied: traitlets>=4.3.1 in /home/ivo/miniconda3/envs/dl_env/lib/python3.10/site-packages (from ipywidgets==8.1.5->-r requirements.txt (line 1)) (5.14.3)\n",
      "Requirement already satisfied: widgetsnbextension~=4.0.12 in /home/ivo/miniconda3/envs/dl_env/lib/python3.10/site-packages (from ipywidgets==8.1.5->-r requirements.txt (line 1)) (4.0.14)\n",
      "Requirement already satisfied: jupyterlab-widgets~=3.0.12 in /home/ivo/miniconda3/envs/dl_env/lib/python3.10/site-packages (from ipywidgets==8.1.5->-r requirements.txt (line 1)) (3.0.15)\n",
      "Requirement already satisfied: decorator in /home/ivo/miniconda3/envs/dl_env/lib/python3.10/site-packages (from ipython>=6.1.0->ipywidgets==8.1.5->-r requirements.txt (line 1)) (5.2.1)\n",
      "Requirement already satisfied: exceptiongroup in /home/ivo/miniconda3/envs/dl_env/lib/python3.10/site-packages (from ipython>=6.1.0->ipywidgets==8.1.5->-r requirements.txt (line 1)) (1.3.0)\n",
      "Requirement already satisfied: jedi>=0.16 in /home/ivo/miniconda3/envs/dl_env/lib/python3.10/site-packages (from ipython>=6.1.0->ipywidgets==8.1.5->-r requirements.txt (line 1)) (0.19.2)\n",
      "Requirement already satisfied: matplotlib-inline in /home/ivo/miniconda3/envs/dl_env/lib/python3.10/site-packages (from ipython>=6.1.0->ipywidgets==8.1.5->-r requirements.txt (line 1)) (0.1.7)\n",
      "Requirement already satisfied: pexpect>4.3 in /home/ivo/miniconda3/envs/dl_env/lib/python3.10/site-packages (from ipython>=6.1.0->ipywidgets==8.1.5->-r requirements.txt (line 1)) (4.9.0)\n",
      "Requirement already satisfied: prompt_toolkit<3.1.0,>=3.0.41 in /home/ivo/miniconda3/envs/dl_env/lib/python3.10/site-packages (from ipython>=6.1.0->ipywidgets==8.1.5->-r requirements.txt (line 1)) (3.0.52)\n",
      "Requirement already satisfied: pygments>=2.4.0 in /home/ivo/miniconda3/envs/dl_env/lib/python3.10/site-packages (from ipython>=6.1.0->ipywidgets==8.1.5->-r requirements.txt (line 1)) (2.19.2)\n",
      "Requirement already satisfied: stack_data in /home/ivo/miniconda3/envs/dl_env/lib/python3.10/site-packages (from ipython>=6.1.0->ipywidgets==8.1.5->-r requirements.txt (line 1)) (0.6.3)\n",
      "Requirement already satisfied: typing_extensions>=4.6 in /home/ivo/miniconda3/envs/dl_env/lib/python3.10/site-packages (from ipython>=6.1.0->ipywidgets==8.1.5->-r requirements.txt (line 1)) (4.15.0)\n",
      "Requirement already satisfied: wcwidth in /home/ivo/miniconda3/envs/dl_env/lib/python3.10/site-packages (from prompt_toolkit<3.1.0,>=3.0.41->ipython>=6.1.0->ipywidgets==8.1.5->-r requirements.txt (line 1)) (0.2.14)\n",
      "Requirement already satisfied: parso<0.9.0,>=0.8.4 in /home/ivo/miniconda3/envs/dl_env/lib/python3.10/site-packages (from jedi>=0.16->ipython>=6.1.0->ipywidgets==8.1.5->-r requirements.txt (line 1)) (0.8.5)\n",
      "Requirement already satisfied: ptyprocess>=0.5 in /home/ivo/miniconda3/envs/dl_env/lib/python3.10/site-packages (from pexpect>4.3->ipython>=6.1.0->ipywidgets==8.1.5->-r requirements.txt (line 1)) (0.7.0)\n",
      "Requirement already satisfied: executing>=1.2.0 in /home/ivo/miniconda3/envs/dl_env/lib/python3.10/site-packages (from stack_data->ipython>=6.1.0->ipywidgets==8.1.5->-r requirements.txt (line 1)) (2.2.1)\n",
      "Requirement already satisfied: asttokens>=2.1.0 in /home/ivo/miniconda3/envs/dl_env/lib/python3.10/site-packages (from stack_data->ipython>=6.1.0->ipywidgets==8.1.5->-r requirements.txt (line 1)) (3.0.0)\n",
      "Requirement already satisfied: pure_eval in /home/ivo/miniconda3/envs/dl_env/lib/python3.10/site-packages (from stack_data->ipython>=6.1.0->ipywidgets==8.1.5->-r requirements.txt (line 1)) (0.2.3)\n"
     ]
    }
   ],
   "source": [
    "# Restart the Kernel after you execute this command.\n",
    "\n",
    "!python -m pip install -r requirements.txt"
   ]
  },
  {
   "cell_type": "markdown",
   "metadata": {},
   "source": [
    "**Important: Restart the Kernel at this moment**"
   ]
  },
  {
   "cell_type": "markdown",
   "metadata": {},
   "source": [
    "## Imports"
   ]
  },
  {
   "cell_type": "code",
   "execution_count": 2,
   "metadata": {},
   "outputs": [],
   "source": [
    "## This cell contains the essential imports you will need – DO NOT CHANGE THE CONTENTS! ##\n",
    "import torch\n",
    "import torch.nn as nn\n",
    "import torch.nn.functional as F\n",
    "import torch.optim as optim\n",
    "import torchvision\n",
    "import torchvision.transforms as transforms\n",
    "import matplotlib.pyplot as plt\n",
    "import numpy as np"
   ]
  },
  {
   "cell_type": "markdown",
   "metadata": {},
   "source": [
    "## Load the Dataset\n",
    "\n",
    "Specify your transforms as a list if you intend to .\n",
    "The transforms module is already loaded as `transforms`.\n",
    "\n",
    "MNIST is fortunately included in the torchvision module.\n",
    "Then, you can create your dataset using the `MNIST` object from `torchvision.datasets` ([the documentation is available here](https://pytorch.org/vision/stable/datasets.html#mnist)).\n",
    "Make sure to specify `download=True`! \n",
    "\n",
    "Once your dataset is created, you'll also need to define a `DataLoader` from the `torch.utils.data` module for both the train and the test set."
   ]
  },
  {
   "cell_type": "code",
   "execution_count": 3,
   "metadata": {},
   "outputs": [],
   "source": [
    "# Define transforms\n",
    "transform = transforms.Compose([\n",
    "    transforms.ToTensor(),\n",
    "    transforms.Normalize((0.5,), (0.5,))\n",
    "])\n",
    "\n",
    "# Create training set and define training dataloader\n",
    "train_dataset = torchvision.datasets.MNIST(root='./data', train=True, download=True, transform=transform)\n",
    "train_loader = torch.utils.data.DataLoader(train_dataset, batch_size=64, shuffle=True)\n",
    "\n",
    "# Create test set and define test dataloader\n",
    "test_dataset = torchvision.datasets.MNIST(root='./data', train=False, download=True, transform=transform)\n",
    "test_loader = torch.utils.data.DataLoader(test_dataset, batch_size=64, shuffle=False)"
   ]
  },
  {
   "cell_type": "markdown",
   "metadata": {},
   "source": [
    "## Justify your preprocessing\n",
    "\n",
    "In your own words, why did you choose the transforms you chose? If you didn't use any preprocessing steps, why not?"
   ]
  },
  {
   "cell_type": "markdown",
   "metadata": {},
   "source": [
    "I chose to convert the images to tensors and normalize them to have a mean of 0.5 and a standard deviation of 0.5 for each channel. This normalization helps to center the data around zero, which can improve the convergence of the neural network during training. Additionally, normalizing the images can help to reduce the impact of varying lighting conditions and contrast in the handwritten digits, making it easier for the model to learn relevant features.\n",
    "\n",
    "About the preprocessing steps, I did not include any data augmentation techniques such as random rotations or flips because the MNIST dataset consists of grayscale images of handwritten digits, which are relatively uniform in terms of orientation and scale. Therefore, I focused on basic normalization to ensure that the pixel values are in a suitable range for training the neural network."
   ]
  },
  {
   "cell_type": "markdown",
   "metadata": {},
   "source": [
    "## Explore the Dataset\n",
    "Using matplotlib, numpy, and torch, explore the dimensions of your data.\n",
    "\n",
    "You can view images using the `show5` function defined below – it takes a data loader as an argument.\n",
    "Remember that normalized images will look really weird to you! You may want to try changing your transforms to view images.\n",
    "Typically using no transforms other than `toTensor()` works well for viewing – but not as well for training your network.\n",
    "If `show5` doesn't work, go back and check your code for creating your data loaders and your training/test sets."
   ]
  },
  {
   "cell_type": "code",
   "execution_count": 4,
   "metadata": {},
   "outputs": [],
   "source": [
    "## This cell contains a function for showing 5 images from a dataloader – DO NOT CHANGE THE CONTENTS! ##\n",
    "def show5(img_loader):\n",
    "    dataiter = iter(img_loader)\n",
    "    \n",
    "    batch = next(dataiter)\n",
    "    labels = batch[1][0:5]\n",
    "    images = batch[0][0:5]\n",
    "    for i in range(5):\n",
    "        print(int(labels[i].detach()))\n",
    "    \n",
    "        image = images[i].numpy()\n",
    "        plt.imshow(image.T.squeeze().T)\n",
    "        plt.show()"
   ]
  },
  {
   "cell_type": "code",
   "execution_count": 5,
   "metadata": {},
   "outputs": [
    {
     "name": "stdout",
     "output_type": "stream",
     "text": [
      "7\n"
     ]
    },
    {
     "data": {
      "image/png": "[encoded data removed]",
      "text/plain": [
       "<Figure size 640x480 with 1 Axes>"
      ]
     },
     "metadata": {},
     "output_type": "display_data"
    },
    {
     "name": "stdout",
     "output_type": "stream",
     "text": [
      "3\n"
     ]
    },
    {
     "data": {
      "image/png": "[encoded data removed]",
      "text/plain": [
       "<Figure size 640x480 with 1 Axes>"
      ]
     },
     "metadata": {},
     "output_type": "display_data"
    },
    {
     "name": "stdout",
     "output_type": "stream",
     "text": [
      "3\n"
     ]
    },
    {
     "data": {
      "image/png": "[encoded data removed]",
      "text/plain": [
       "<Figure size 640x480 with 1 Axes>"
      ]
     },
     "metadata": {},
     "output_type": "display_data"
    },
    {
     "name": "stdout",
     "output_type": "stream",
     "text": [
      "1\n"
     ]
    },
    {
     "data": {
      "image/png": "[encoded data removed]",
      "text/plain": [
       "<Figure size 640x480 with 1 Axes>"
      ]
     },
     "metadata": {},
     "output_type": "display_data"
    },
    {
     "name": "stdout",
     "output_type": "stream",
     "text": [
      "8\n"
     ]
    },
    {
     "data": {
      "image/png": "[encoded data removed]",
      "text/plain": [
       "<Figure size 640x480 with 1 Axes>"
      ]
     },
     "metadata": {},
     "output_type": "display_data"
    }
   ],
   "source": [
    "# Explore data\n",
    "show5(train_loader)"
   ]
  },
  {
   "cell_type": "markdown",
   "metadata": {},
   "source": [
    "## Build your Neural Network\n",
    "Using the layers in `torch.nn` (which has been imported as `nn`) and the `torch.nn.functional` module (imported as `F`), construct a neural network based on the parameters of the dataset.\n",
    "Use any architecture you like. \n",
    "\n",
    "*Note*: If you did not flatten your tensors in your transforms or as part of your preprocessing and you are using only `Linear` layers, make sure to use the `Flatten` layer in your network!"
   ]
  },
  {
   "cell_type": "code",
   "execution_count": 6,
   "metadata": {},
   "outputs": [
    {
     "name": "stdout",
     "output_type": "stream",
     "text": [
      "MNISTNet(\n",
      "  (flatten): Flatten(start_dim=1, end_dim=-1)\n",
      "  (fc1): Linear(in_features=784, out_features=128, bias=True)\n",
      "  (fc2): Linear(in_features=128, out_features=64, bias=True)\n",
      "  (fc3): Linear(in_features=64, out_features=10, bias=True)\n",
      "  (dropout): Dropout(p=0.2, inplace=False)\n",
      ")\n",
      "\n",
      "Total parameters: 109,386\n",
      "\n",
      "Batch input shape: torch.Size([64, 1, 28, 28])\n",
      "Batch output shape: torch.Size([64, 10])\n",
      "Batch output values (first sample): tensor([ 0.1229, -0.2269,  0.0334, -0.0796,  0.1409,  0.0029,  0.1479, -0.1462,\n",
      "        -0.4170,  0.0259])\n"
     ]
    }
   ],
   "source": [
    "class MNISTNet(nn.Module):\n",
    "    def __init__(self):\n",
    "        super(MNISTNet, self).__init__()\n",
    "        \n",
    "        # Flatten layer to convert 28x28 images to 784-dimensional vectors\n",
    "        self.flatten = nn.Flatten()\n",
    "        \n",
    "        # Define the fully connected layers\n",
    "        self.fc1 = nn.Linear(28 * 28, 128)  # Input: 784, Output: 128\n",
    "        self.fc2 = nn.Linear(128, 64)       # Input: 128, Output: 64  \n",
    "        self.fc3 = nn.Linear(64, 10)        # Input: 64, Output: 10 (classes)\n",
    "        \n",
    "        # Dropout for regularization\n",
    "        self.dropout = nn.Dropout(0.2)\n",
    "        \n",
    "    def forward(self, x):\n",
    "        # Flatten the input tensor\n",
    "        x = self.flatten(x)\n",
    "        \n",
    "        # First layer with ReLU activation\n",
    "        x = F.relu(self.fc1(x))\n",
    "        x = self.dropout(x)\n",
    "        \n",
    "        # Second layer with ReLU activation\n",
    "        x = F.relu(self.fc2(x))\n",
    "        x = self.dropout(x)\n",
    "        \n",
    "        # Output layer (no activation - will use CrossEntropyLoss)\n",
    "        x = self.fc3(x)\n",
    "        \n",
    "        return x\n",
    "\n",
    "# Create an instance of the network\n",
    "model = MNISTNet()\n",
    "\n",
    "# Print model architecture\n",
    "print(model)\n",
    "print(f\"\\nTotal parameters: {sum(p.numel() for p in model.parameters()):,}\")\n",
    "\n",
    "# Test with my train_loader\n",
    "dataiter = iter(train_loader)\n",
    "batch = next(dataiter)\n",
    "images, labels = batch\n",
    "output = model(images)\n",
    "print(f\"\\nBatch input shape: {images.shape}\")\n",
    "print(f\"Batch output shape: {output.shape}\")\n",
    "print(f\"Batch output values (first sample): {output[0].detach()}\")\n"
   ]
  },
  {
   "cell_type": "markdown",
   "metadata": {},
   "source": [
    "Specify a loss function and an optimizer, and instantiate the model.\n",
    "\n",
    "If you use a less common loss function, please note why you chose that loss function in a comment."
   ]
  },
  {
   "cell_type": "code",
   "execution_count": 7,
   "metadata": {},
   "outputs": [
    {
     "name": "stdout",
     "output_type": "stream",
     "text": [
      "Model instantiated successfully!\n",
      "Loss function: CrossEntropyLoss()\n",
      "Optimizer: Adam (\n",
      "Parameter Group 0\n",
      "    amsgrad: False\n",
      "    betas: (0.9, 0.999)\n",
      "    capturable: False\n",
      "    differentiable: False\n",
      "    eps: 1e-08\n",
      "    foreach: None\n",
      "    fused: None\n",
      "    lr: 0.001\n",
      "    maximize: False\n",
      "    weight_decay: 0\n",
      ")\n",
      "Learning rate: 0.001\n"
     ]
    }
   ],
   "source": [
    "# Instantiate the model\n",
    "model = MNISTNet()\n",
    "\n",
    "# Define loss function\n",
    "# CrossEntropyLoss is perfect for multi-class classification like MNIST\n",
    "# It combines LogSoftmax + NLLLoss, handles class probabilities automatically\n",
    "criterion = nn.CrossEntropyLoss()\n",
    "\n",
    "# Define optimizer\n",
    "# Adam is a great default choice: adaptive learning rates + momentum\n",
    "# lr=0.001 is a good starting learning rate for most problems\n",
    "optimizer = optim.Adam(model.parameters(), lr=0.001)\n",
    "\n",
    "# Print setup info\n",
    "print(\"Model instantiated successfully!\")\n",
    "print(f\"Loss function: {criterion}\")\n",
    "print(f\"Optimizer: {optimizer}\")\n",
    "print(f\"Learning rate: {optimizer.param_groups[0]['lr']}\")"
   ]
  },
  {
   "cell_type": "markdown",
   "metadata": {},
   "source": [
    "## Running your Neural Network\n",
    "Use whatever method you like to train your neural network, and ensure you record the average loss at each epoch. \n",
    "Don't forget to use `torch.device()` and the `.to()` method for both your model and your data if you are using GPU!\n",
    "\n",
    "If you want to print your loss **during** each epoch, you can use the `enumerate` function and print the loss after a set number of batches. 250 batches works well for most people!"
   ]
  },
  {
   "cell_type": "code",
   "execution_count": 8,
   "metadata": {},
   "outputs": [
    {
     "name": "stdout",
     "output_type": "stream",
     "text": [
      "Starting training...\n",
      "============================================================\n",
      "Epoch [1/10], Batch [250/938], Average Loss: 0.8508\n",
      "Epoch [1/10], Batch [500/938], Average Loss: 0.4066\n",
      "Epoch [1/10], Batch [750/938], Average Loss: 0.3527\n",
      "Epoch [1/10] completed - Average Loss: 0.4915\n",
      "------------------------------------------------------------\n",
      "Epoch [2/10], Batch [250/938], Average Loss: 0.2804\n",
      "Epoch [2/10], Batch [500/938], Average Loss: 0.2510\n",
      "Epoch [2/10], Batch [750/938], Average Loss: 0.2483\n",
      "Epoch [2/10] completed - Average Loss: 0.2554\n",
      "------------------------------------------------------------\n",
      "Epoch [3/10], Batch [250/938], Average Loss: 0.2193\n",
      "Epoch [3/10], Batch [500/938], Average Loss: 0.2076\n",
      "Epoch [3/10], Batch [750/938], Average Loss: 0.2103\n",
      "Epoch [3/10] completed - Average Loss: 0.2096\n",
      "------------------------------------------------------------\n",
      "Epoch [4/10], Batch [250/938], Average Loss: 0.1957\n",
      "Epoch [4/10], Batch [500/938], Average Loss: 0.1888\n",
      "Epoch [4/10], Batch [750/938], Average Loss: 0.1791\n",
      "Epoch [4/10] completed - Average Loss: 0.1886\n",
      "------------------------------------------------------------\n",
      "Epoch [5/10], Batch [250/938], Average Loss: 0.1691\n",
      "Epoch [5/10], Batch [500/938], Average Loss: 0.1659\n",
      "Epoch [5/10], Batch [750/938], Average Loss: 0.1619\n",
      "Epoch [5/10] completed - Average Loss: 0.1650\n",
      "------------------------------------------------------------\n",
      "Epoch [6/10], Batch [250/938], Average Loss: 0.1541\n",
      "Epoch [6/10], Batch [500/938], Average Loss: 0.1499\n",
      "Epoch [6/10], Batch [750/938], Average Loss: 0.1673\n",
      "Epoch [6/10] completed - Average Loss: 0.1578\n",
      "------------------------------------------------------------\n",
      "Epoch [7/10], Batch [250/938], Average Loss: 0.1514\n",
      "Epoch [7/10], Batch [500/938], Average Loss: 0.1443\n",
      "Epoch [7/10], Batch [750/938], Average Loss: 0.1418\n",
      "Epoch [7/10] completed - Average Loss: 0.1466\n",
      "------------------------------------------------------------\n",
      "Epoch [8/10], Batch [250/938], Average Loss: 0.1374\n",
      "Epoch [8/10], Batch [500/938], Average Loss: 0.1460\n",
      "Epoch [8/10], Batch [750/938], Average Loss: 0.1425\n",
      "Epoch [8/10] completed - Average Loss: 0.1421\n",
      "------------------------------------------------------------\n",
      "Epoch [9/10], Batch [250/938], Average Loss: 0.1309\n",
      "Epoch [9/10], Batch [500/938], Average Loss: 0.1342\n",
      "Epoch [9/10], Batch [750/938], Average Loss: 0.1328\n",
      "Epoch [9/10] completed - Average Loss: 0.1340\n",
      "------------------------------------------------------------\n",
      "Epoch [10/10], Batch [250/938], Average Loss: 0.1227\n",
      "Epoch [10/10], Batch [500/938], Average Loss: 0.1342\n",
      "Epoch [10/10], Batch [750/938], Average Loss: 0.1344\n",
      "Epoch [10/10] completed - Average Loss: 0.1307\n",
      "------------------------------------------------------------\n",
      "Training completed!\n",
      "Final training loss: 0.1307\n"
     ]
    }
   ],
   "source": [
    "# Set device (CPU since I'm not using GPU)\n",
    "device = torch.device('cpu')\n",
    "model = model.to(device)\n",
    "\n",
    "def train(num_epochs = 10, print_every = 250, optimizer=optimizer):\n",
    "    \"\"\"Train the model and print every `print_every` batches.\"\"\"\n",
    "\n",
    "    # Lists to store training history\n",
    "    epoch_losses = []\n",
    "    batch_losses = []\n",
    "\n",
    "    print(\"Starting training...\")\n",
    "    print(\"=\" * 60)\n",
    "\n",
    "    # Training loop\n",
    "    for epoch in range(num_epochs):\n",
    "        model.train()  # Set model to training mode\n",
    "        running_loss = 0.0\n",
    "        epoch_loss = 0.0\n",
    "        \n",
    "        for batch_idx, (data, target) in enumerate(train_loader):\n",
    "            # Move data to device (CPU in my case)\n",
    "            data, target = data.to(device), target.to(device)\n",
    "            \n",
    "            # Zero the gradients\n",
    "            optimizer.zero_grad()\n",
    "            \n",
    "            # Forward pass\n",
    "            output = model(data)\n",
    "            \n",
    "            # Calculate loss\n",
    "            loss = criterion(output, target)\n",
    "            \n",
    "            # Backward pass\n",
    "            loss.backward()\n",
    "            \n",
    "            # Update weights\n",
    "            optimizer.step()\n",
    "            \n",
    "            # Update running loss\n",
    "            running_loss += loss.item()\n",
    "            epoch_loss += loss.item()\n",
    "            \n",
    "            # Print progress during epoch\n",
    "            if (batch_idx + 1) % print_every == 0:\n",
    "                avg_loss = running_loss / print_every\n",
    "                print(f'Epoch [{epoch+1}/{num_epochs}], '\n",
    "                    f'Batch [{batch_idx+1}/{len(train_loader)}], '\n",
    "                    f'Average Loss: {avg_loss:.4f}')\n",
    "                batch_losses.append(avg_loss)\n",
    "                running_loss = 0.0\n",
    "        \n",
    "        # Calculate average loss for the epoch\n",
    "        avg_epoch_loss = epoch_loss / len(train_loader)\n",
    "        epoch_losses.append(avg_epoch_loss)\n",
    "        \n",
    "        print(f'Epoch [{epoch+1}/{num_epochs}] completed - Average Loss: {avg_epoch_loss:.4f}')\n",
    "        print(\"-\" * 60)\n",
    "        \n",
    "    return epoch_losses, batch_losses\n",
    "\n",
    "epoch_losses, batch_losses = train()\n",
    "print(\"Training completed!\")\n",
    "print(f\"Final training loss: {epoch_losses[-1]:.4f}\")"
   ]
  },
  {
   "cell_type": "markdown",
   "metadata": {},
   "source": [
    "Plot the training loss (and validation loss/accuracy, if recorded)."
   ]
  },
  {
   "cell_type": "code",
   "execution_count": 9,
   "metadata": {},
   "outputs": [
    {
     "data": {
      "image/png": "[encoded data removed]",
      "text/plain": [
       "<Figure size 1200x400 with 2 Axes>"
      ]
     },
     "metadata": {},
     "output_type": "display_data"
    }
   ],
   "source": [
    "# Plot training loss\n",
    "plt.figure(figsize=(12, 4))\n",
    "\n",
    "# Plot epoch losses\n",
    "plt.subplot(1, 2, 1)\n",
    "plt.plot(epoch_losses, 'b-', marker='o')\n",
    "plt.title('Training Loss per Epoch')\n",
    "plt.xlabel('Epoch')\n",
    "plt.ylabel('Average Loss')\n",
    "plt.grid(True)\n",
    "\n",
    "# Plot batch losses\n",
    "if batch_losses:\n",
    "    plt.subplot(1, 2, 2)\n",
    "    plt.plot(batch_losses, 'r-', alpha=0.7)\n",
    "    plt.title('Training Loss per 250 Batches')\n",
    "    plt.xlabel('Batch Group')\n",
    "    plt.ylabel('Average Loss')\n",
    "    plt.grid(True)\n",
    "\n",
    "plt.tight_layout()\n",
    "plt.show()"
   ]
  },
  {
   "cell_type": "markdown",
   "metadata": {},
   "source": [
    "## Testing your model\n",
    "Using the previously created `DataLoader` for the test set, compute the percentage of correct predictions using the highest probability prediction. \n",
    "\n",
    "If your accuracy is over 90%, great work, but see if you can push a bit further! \n",
    "If your accuracy is under 90%, you'll need to make improvements.\n",
    "Go back and check your model architecture, loss function, and optimizer to make sure they're appropriate for an image classification task."
   ]
  },
  {
   "cell_type": "code",
   "execution_count": 10,
   "metadata": {},
   "outputs": [
    {
     "name": "stdout",
     "output_type": "stream",
     "text": [
      "Testing the model...\n",
      "==================================================\n",
      "Test Results:\n",
      "Total test samples: 10000\n",
      "Correct predictions: 9726\n",
      "Overall Accuracy: 97.26%\n"
     ]
    }
   ],
   "source": [
    "def test():\n",
    "    # Set model to evaluation mode\n",
    "    model.eval()\n",
    "\n",
    "    # Initialize variables for testing\n",
    "    correct = 0\n",
    "    total = 0\n",
    "    class_correct = [0] * 10  # For per-class accuracy\n",
    "    class_total = [0] * 10\n",
    "    all_predictions = []\n",
    "    all_targets = []\n",
    "\n",
    "    print(\"Testing the model...\")\n",
    "    print(\"=\" * 50)\n",
    "\n",
    "    # Disable gradient computation for testing (saves memory and speeds up)\n",
    "    with torch.no_grad():\n",
    "        for data, target in test_loader:\n",
    "            # Move data to device\n",
    "            data, target = data.to(device), target.to(device)\n",
    "            \n",
    "            # Forward pass\n",
    "            outputs = model(data)\n",
    "            \n",
    "            # Get predictions (highest probability class)\n",
    "            _, predicted = torch.max(outputs, 1)\n",
    "            \n",
    "            # Update total count\n",
    "            total += target.size(0)\n",
    "            \n",
    "            # Update correct predictions\n",
    "            correct += (predicted == target).sum().item()\n",
    "            \n",
    "            # Store predictions and targets for detailed analysis\n",
    "            all_predictions.extend(predicted.cpu().numpy())\n",
    "            all_targets.extend(target.cpu().numpy())\n",
    "            \n",
    "            # Per-class accuracy calculation\n",
    "            for i in range(target.size(0)):\n",
    "                label = target[i].item()\n",
    "                class_total[label] += 1\n",
    "                if predicted[i] == target[i]:\n",
    "                    class_correct[label] += 1\n",
    "\n",
    "    # Calculate overall accuracy\n",
    "    accuracy = 100 * correct / total\n",
    "    \n",
    "    print(f\"Test Results:\")\n",
    "    print(f\"Total test samples: {total}\")\n",
    "    print(f\"Correct predictions: {correct}\")\n",
    "    print(f\"Overall Accuracy: {accuracy:.2f}%\")\n",
    "\n",
    "test()"
   ]
  },
  {
   "cell_type": "code",
   "execution_count": 11,
   "metadata": {},
   "outputs": [
    {
     "data": {
      "image/png": "[encoded data removed]",
      "text/plain": [
       "<Figure size 1200x600 with 8 Axes>"
      ]
     },
     "metadata": {},
     "output_type": "display_data"
    }
   ],
   "source": [
    "# Visualize some predictions\n",
    "def visualize_predictions(num_samples=8):\n",
    "    \"\"\"Visualize some test predictions\"\"\"\n",
    "    # Get one batch of test data\n",
    "    dataiter = iter(test_loader)\n",
    "    images, labels = next(dataiter)\n",
    "    images, labels = images.to(device), labels.to(device)\n",
    "    \n",
    "    # Get predictions\n",
    "    outputs = model(images)\n",
    "    _, predicted = torch.max(outputs, 1)\n",
    "    \n",
    "    # Plot results\n",
    "    fig, axes = plt.subplots(2, 4, figsize=(12, 6))\n",
    "    axes = axes.ravel()\n",
    "    \n",
    "    for i in range(num_samples):\n",
    "        # Convert to numpy and remove channel dimension\n",
    "        img = images[i].cpu().squeeze().numpy()\n",
    "        \n",
    "        # Denormalize image (reverse the normalization we applied)\n",
    "        img = img * 0.5 + 0.5  # From [-1,1] back to [0,1]\n",
    "        \n",
    "        axes[i].imshow(img, cmap='gray')\n",
    "        axes[i].set_title(f'True: {labels[i].item()}, Pred: {predicted[i].item()}')\n",
    "        axes[i].axis('off')\n",
    "        \n",
    "        # Color the title based on correctness\n",
    "        if labels[i].item() == predicted[i].item():\n",
    "            axes[i].title.set_color('green')\n",
    "        else:\n",
    "            axes[i].title.set_color('red')\n",
    "    \n",
    "    plt.tight_layout()\n",
    "    plt.suptitle('Sample Predictions (Green=Correct, Red=Wrong)', y=1.02)\n",
    "    plt.show()\n",
    "\n",
    "# Show sample predictions\n",
    "visualize_predictions()"
   ]
  },
  {
   "cell_type": "markdown",
   "metadata": {},
   "source": [
    "## Improving your model\n",
    "\n",
    "Once your model is done training, try tweaking your hyperparameters and training again below to improve your accuracy on the test set!"
   ]
  },
  {
   "cell_type": "code",
   "execution_count": 12,
   "metadata": {},
   "outputs": [
    {
     "name": "stdout",
     "output_type": "stream",
     "text": [
      "Starting training...\n",
      "============================================================\n",
      "Epoch [1/25], Batch [938/938], Average Loss: 0.1077\n",
      "Epoch [1/25] completed - Average Loss: 0.1077\n",
      "------------------------------------------------------------\n",
      "Epoch [2/25], Batch [938/938], Average Loss: 0.1021\n",
      "Epoch [2/25] completed - Average Loss: 0.1021\n",
      "------------------------------------------------------------\n",
      "Epoch [3/25], Batch [938/938], Average Loss: 0.0980\n",
      "Epoch [3/25] completed - Average Loss: 0.0980\n",
      "------------------------------------------------------------\n",
      "Epoch [4/25], Batch [938/938], Average Loss: 0.0971\n",
      "Epoch [4/25] completed - Average Loss: 0.0971\n",
      "------------------------------------------------------------\n",
      "Epoch [5/25], Batch [938/938], Average Loss: 0.0971\n",
      "Epoch [5/25] completed - Average Loss: 0.0971\n",
      "------------------------------------------------------------\n",
      "Epoch [6/25], Batch [938/938], Average Loss: 0.0937\n",
      "Epoch [6/25] completed - Average Loss: 0.0937\n",
      "------------------------------------------------------------\n",
      "Epoch [7/25], Batch [938/938], Average Loss: 0.0938\n",
      "Epoch [7/25] completed - Average Loss: 0.0938\n",
      "------------------------------------------------------------\n",
      "Epoch [8/25], Batch [938/938], Average Loss: 0.0902\n",
      "Epoch [8/25] completed - Average Loss: 0.0902\n",
      "------------------------------------------------------------\n",
      "Epoch [9/25], Batch [938/938], Average Loss: 0.0903\n",
      "Epoch [9/25] completed - Average Loss: 0.0903\n",
      "------------------------------------------------------------\n",
      "Epoch [10/25], Batch [938/938], Average Loss: 0.0889\n",
      "Epoch [10/25] completed - Average Loss: 0.0889\n",
      "------------------------------------------------------------\n",
      "Epoch [11/25], Batch [938/938], Average Loss: 0.0898\n",
      "Epoch [11/25] completed - Average Loss: 0.0898\n",
      "------------------------------------------------------------\n",
      "Epoch [12/25], Batch [938/938], Average Loss: 0.0880\n",
      "Epoch [12/25] completed - Average Loss: 0.0880\n",
      "------------------------------------------------------------\n",
      "Epoch [13/25], Batch [938/938], Average Loss: 0.0889\n",
      "Epoch [13/25] completed - Average Loss: 0.0889\n",
      "------------------------------------------------------------\n",
      "Epoch [14/25], Batch [938/938], Average Loss: 0.0841\n",
      "Epoch [14/25] completed - Average Loss: 0.0841\n",
      "------------------------------------------------------------\n",
      "Epoch [15/25], Batch [938/938], Average Loss: 0.0821\n",
      "Epoch [15/25] completed - Average Loss: 0.0821\n",
      "------------------------------------------------------------\n",
      "Epoch [16/25], Batch [938/938], Average Loss: 0.0831\n",
      "Epoch [16/25] completed - Average Loss: 0.0831\n",
      "------------------------------------------------------------\n",
      "Epoch [17/25], Batch [938/938], Average Loss: 0.0813\n",
      "Epoch [17/25] completed - Average Loss: 0.0813\n",
      "------------------------------------------------------------\n",
      "Epoch [18/25], Batch [938/938], Average Loss: 0.0819\n",
      "Epoch [18/25] completed - Average Loss: 0.0819\n",
      "------------------------------------------------------------\n",
      "Epoch [19/25], Batch [938/938], Average Loss: 0.0801\n",
      "Epoch [19/25] completed - Average Loss: 0.0801\n",
      "------------------------------------------------------------\n",
      "Epoch [20/25], Batch [938/938], Average Loss: 0.0794\n",
      "Epoch [20/25] completed - Average Loss: 0.0794\n",
      "------------------------------------------------------------\n",
      "Epoch [21/25], Batch [938/938], Average Loss: 0.0787\n",
      "Epoch [21/25] completed - Average Loss: 0.0787\n",
      "------------------------------------------------------------\n",
      "Epoch [22/25], Batch [938/938], Average Loss: 0.0775\n",
      "Epoch [22/25] completed - Average Loss: 0.0775\n",
      "------------------------------------------------------------\n",
      "Epoch [23/25], Batch [938/938], Average Loss: 0.0799\n",
      "Epoch [23/25] completed - Average Loss: 0.0799\n",
      "------------------------------------------------------------\n",
      "Epoch [24/25], Batch [938/938], Average Loss: 0.0782\n",
      "Epoch [24/25] completed - Average Loss: 0.0782\n",
      "------------------------------------------------------------\n",
      "Epoch [25/25], Batch [938/938], Average Loss: 0.0775\n",
      "Epoch [25/25] completed - Average Loss: 0.0775\n",
      "------------------------------------------------------------\n"
     ]
    },
    {
     "data": {
      "text/plain": [
       "([0.10774545078185686,\n",
       "  0.1020531419174138,\n",
       "  0.09799999112575086,\n",
       "  0.09714201441122049,\n",
       "  0.0971301094055978,\n",
       "  0.09365692816581378,\n",
       "  0.09379280374836185,\n",
       "  0.09024208913773679,\n",
       "  0.09029636096243046,\n",
       "  0.08893367499540022,\n",
       "  0.08980718872863362,\n",
       "  0.08795514676882736,\n",
       "  0.08885182609269296,\n",
       "  0.08410231725236814,\n",
       "  0.08211899085118295,\n",
       "  0.08312582796531866,\n",
       "  0.08130503440651098,\n",
       "  0.08185026696302307,\n",
       "  0.08008249725814837,\n",
       "  0.0793824629922177,\n",
       "  0.07866356615423918,\n",
       "  0.0774551414465631,\n",
       "  0.07985099863463532,\n",
       "  0.07816950437019089,\n",
       "  0.07749282028689893],\n",
       " [0.10774545078185686,\n",
       "  0.1020531419174138,\n",
       "  0.09799999112575086,\n",
       "  0.09714201441122049,\n",
       "  0.0971301094055978,\n",
       "  0.09365692816581378,\n",
       "  0.09379280374836185,\n",
       "  0.09024208913773679,\n",
       "  0.09029636096243046,\n",
       "  0.08893367499540022,\n",
       "  0.08980718872863362,\n",
       "  0.08795514676882736,\n",
       "  0.08885182609269296,\n",
       "  0.08410231725236814,\n",
       "  0.08211899085118295,\n",
       "  0.08312582796531866,\n",
       "  0.08130503440651098,\n",
       "  0.08185026696302307,\n",
       "  0.08008249725814837,\n",
       "  0.0793824629922177,\n",
       "  0.07866356615423918,\n",
       "  0.0774551414465631,\n",
       "  0.07985099863463532,\n",
       "  0.07816950437019089,\n",
       "  0.07749282028689893])"
      ]
     },
     "execution_count": 12,
     "metadata": {},
     "output_type": "execute_result"
    }
   ],
   "source": [
    "improved_optimizer = optim.Adam(model.parameters(), lr=0.0005, weight_decay=1e-4)\n",
    "train(num_epochs = 25, print_every = 938, optimizer=improved_optimizer)\n"
   ]
  },
  {
   "cell_type": "code",
   "execution_count": 13,
   "metadata": {},
   "outputs": [
    {
     "name": "stdout",
     "output_type": "stream",
     "text": [
      "Testing the model...\n",
      "==================================================\n",
      "Test Results:\n",
      "Total test samples: 10000\n",
      "Correct predictions: 9745\n",
      "Overall Accuracy: 97.45%\n"
     ]
    }
   ],
   "source": [
    "test()"
   ]
  },
  {
   "cell_type": "markdown",
   "metadata": {},
   "source": [
    "Even changing the optimizer and raising the number of epochs, the improvement was not significant. The accuracy increased from 97.26% to around 97.45%."
   ]
  },
  {
   "cell_type": "markdown",
   "metadata": {},
   "source": [
    "## Saving your model\n",
    "Using `torch.save`, save your model for future loading."
   ]
  },
  {
   "cell_type": "code",
   "execution_count": 15,
   "metadata": {},
   "outputs": [],
   "source": [
    "torch.save(model.state_dict(), 'mnist_model.pth')"
   ]
  }
 ],
 "metadata": {
  "kernelspec": {
   "display_name": "dl_env",
   "language": "python",
   "name": "python3"
  },
  "language_info": {
   "codemirror_mode": {
    "name": "ipython",
    "version": 3
   },
   "file_extension": ".py",
   "mimetype": "text/x-python",
   "name": "python",
   "nbconvert_exporter": "python",
   "pygments_lexer": "ipython3",
   "version": "3.10.18"
  }
 },
 "nbformat": 4,
 "nbformat_minor": 4
}
